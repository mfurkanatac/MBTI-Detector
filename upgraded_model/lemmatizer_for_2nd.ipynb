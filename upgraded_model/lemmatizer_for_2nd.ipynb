{
 "cells": [
  {
   "cell_type": "code",
   "execution_count": 1,
   "metadata": {},
   "outputs": [
    {
     "data": {
      "text/plain": [
       "author_flair_text     0\n",
       "body                 55\n",
       "subreddit             0\n",
       "dtype: int64"
      ]
     },
     "execution_count": 1,
     "metadata": {},
     "output_type": "execute_result"
    }
   ],
   "source": [
    "import pandas as pd\n",
    "import numpy as np\n",
    "\n",
    "data = pd.read_csv('mbti_full_pull.csv')\n",
    "data.isna().sum()"
   ]
  },
  {
   "cell_type": "code",
   "execution_count": 2,
   "metadata": {},
   "outputs": [],
   "source": [
    "data.dropna(subset=['body'], inplace=True)"
   ]
  },
  {
   "cell_type": "code",
   "execution_count": 3,
   "metadata": {},
   "outputs": [
    {
     "data": {
      "text/plain": [
       "author_flair_text    0\n",
       "body                 0\n",
       "subreddit            0\n",
       "dtype: int64"
      ]
     },
     "execution_count": 3,
     "metadata": {},
     "output_type": "execute_result"
    }
   ],
   "source": [
    "data.isna().sum()"
   ]
  },
  {
   "cell_type": "code",
   "execution_count": 4,
   "metadata": {},
   "outputs": [
    {
     "data": {
      "text/html": [
       "<div>\n",
       "<style scoped>\n",
       "    .dataframe tbody tr th:only-of-type {\n",
       "        vertical-align: middle;\n",
       "    }\n",
       "\n",
       "    .dataframe tbody tr th {\n",
       "        vertical-align: top;\n",
       "    }\n",
       "\n",
       "    .dataframe thead th {\n",
       "        text-align: right;\n",
       "    }\n",
       "</style>\n",
       "<table border=\"1\" class=\"dataframe\">\n",
       "  <thead>\n",
       "    <tr style=\"text-align: right;\">\n",
       "      <th></th>\n",
       "      <th>author_flair_text</th>\n",
       "      <th>body</th>\n",
       "      <th>subreddit</th>\n",
       "    </tr>\n",
       "  </thead>\n",
       "  <tbody>\n",
       "    <tr>\n",
       "      <th>0</th>\n",
       "      <td>INTJ</td>\n",
       "      <td>Knowing you're in INTJ is a tool for you to us...</td>\n",
       "      <td>intj</td>\n",
       "    </tr>\n",
       "    <tr>\n",
       "      <th>1</th>\n",
       "      <td>INTJ</td>\n",
       "      <td>You are truly an enlightened mastermind.</td>\n",
       "      <td>intj</td>\n",
       "    </tr>\n",
       "    <tr>\n",
       "      <th>2</th>\n",
       "      <td>INFJ, 26F</td>\n",
       "      <td>You should :) it will help if you have a down ...</td>\n",
       "      <td>infj</td>\n",
       "    </tr>\n",
       "    <tr>\n",
       "      <th>3</th>\n",
       "      <td>INTP</td>\n",
       "      <td>I watch a bit of everything (including hentai)...</td>\n",
       "      <td>INTP</td>\n",
       "    </tr>\n",
       "    <tr>\n",
       "      <th>4</th>\n",
       "      <td>INTJ</td>\n",
       "      <td>I don't know if I would count this as a pet pe...</td>\n",
       "      <td>intj</td>\n",
       "    </tr>\n",
       "  </tbody>\n",
       "</table>\n",
       "</div>"
      ],
      "text/plain": [
       "  author_flair_text                                               body  \\\n",
       "0              INTJ  Knowing you're in INTJ is a tool for you to us...   \n",
       "1              INTJ           You are truly an enlightened mastermind.   \n",
       "2         INFJ, 26F  You should :) it will help if you have a down ...   \n",
       "3              INTP  I watch a bit of everything (including hentai)...   \n",
       "4              INTJ  I don't know if I would count this as a pet pe...   \n",
       "\n",
       "  subreddit  \n",
       "0      intj  \n",
       "1      intj  \n",
       "2      infj  \n",
       "3      INTP  \n",
       "4      intj  "
      ]
     },
     "execution_count": 4,
     "metadata": {},
     "output_type": "execute_result"
    }
   ],
   "source": [
    "data.head()"
   ]
  },
  {
   "cell_type": "code",
   "execution_count": 5,
   "metadata": {},
   "outputs": [
    {
     "name": "stderr",
     "output_type": "stream",
     "text": [
      "[nltk_data] Downloading package punkt to\n",
      "[nltk_data]     C:\\Users\\Furkan\\AppData\\Roaming\\nltk_data...\n",
      "[nltk_data]   Package punkt is already up-to-date!\n",
      "[nltk_data] Downloading package wordnet to\n",
      "[nltk_data]     C:\\Users\\Furkan\\AppData\\Roaming\\nltk_data...\n",
      "[nltk_data]   Package wordnet is already up-to-date!\n"
     ]
    },
    {
     "name": "stdout",
     "output_type": "stream",
     "text": [
      "Lemmatization and special character removal complete.\n"
     ]
    }
   ],
   "source": [
    "import pandas as pd\n",
    "import nltk\n",
    "from nltk.stem import WordNetLemmatizer\n",
    "from nltk import pos_tag, word_tokenize\n",
    "import re\n",
    "\n",
    "# Download the required NLTK resources\n",
    "nltk.download(\"punkt\")\n",
    "nltk.download(\"wordnet\")\n",
    "\n",
    "# Load the data from the CSV file into a pandas DataFrame\n",
    "data_df = data.copy()\n",
    "\n",
    "# Create a WordNet Lemmatizer object\n",
    "lemmatizer = WordNetLemmatizer()\n",
    "\n",
    "# Function to lemmatize the text with correct POS tag\n",
    "def lemmatize_text_with_pos(text):\n",
    "    words = word_tokenize(text)  # Tokenize the text into individual words\n",
    "    tagged_words = pos_tag(words)  # Get POS tags for each word\n",
    "    lemmatized_words = []\n",
    "    for word, tag in tagged_words:\n",
    "        wntag = tag[0].lower()  # Get the first character of the POS tag (e.g., 'n' for noun)\n",
    "        wntag = wntag if wntag in ['a', 'r', 'n', 'v'] else None  # Map POS tag to WordNet tags\n",
    "        if not wntag:\n",
    "            lemma = word\n",
    "        else:\n",
    "            lemma = lemmatizer.lemmatize(word, wntag)\n",
    "        lemmatized_words.append(lemma)\n",
    "    return \" \".join(lemmatized_words)  # Join the lemmatized words back into a string\n",
    "\n",
    "# Function to remove special characters from the text\n",
    "def remove_special_characters(text):\n",
    "    # Define a regex pattern to match special characters (excluding alphanumeric and spaces)\n",
    "    pattern = r\"[^a-zA-Z0-9\\s]\"\n",
    "    # Use regex to remove special characters and return the cleaned text\n",
    "    cleaned_text = re.sub(pattern, \"\", text)\n",
    "    return cleaned_text\n",
    "\n",
    "# Apply the remove_special_characters function to the \"post-comment\" column and store the results in a new column \"cleaned-comment\"\n",
    "data_df[\"cleaned-comment\"] = data_df[\"body\"].apply(remove_special_characters)\n",
    "\n",
    "# Apply the lemmatize_text_with_pos function to the \"cleaned-comment\" column and store the results in another new column \"lemmatized-comment\"\n",
    "data_df[\"lemmatized-comment\"] = data_df[\"cleaned-comment\"].apply(lemmatize_text_with_pos)\n",
    "\n",
    "print(\"Lemmatization and special character removal complete.\")"
   ]
  },
  {
   "cell_type": "code",
   "execution_count": 6,
   "metadata": {},
   "outputs": [],
   "source": [
    "mbti_replacements = {\n",
    "    'istj': 'ISTJ',\n",
    "    'isfj': 'ISFJ',\n",
    "    'infj': 'INFJ',\n",
    "    'intj': 'INTJ',\n",
    "    'istp': 'ISTP',\n",
    "    'isfp': 'ISFP',\n",
    "    'infp': 'INFP',\n",
    "    'intp': 'INTP',\n",
    "    'estp': 'ESTP',\n",
    "    'esfp': 'ESFP',\n",
    "    'enfp': 'ENFP',\n",
    "    'entp': 'ENTP',\n",
    "    'estj': 'ESTJ',\n",
    "    'esfj': 'ESFJ',\n",
    "    'enfj': 'ENFJ',\n",
    "    'entj': 'ENTJ',\n",
    "}\n",
    "\n",
    "mbti_list = ['istj', 'isfj', 'infj', 'intj', 'istp', 'isfp', 'infp', 'intp', 'estp', 'esfp', 'enfp', 'entp', 'estj', 'esfj', 'enfj', 'entj']\n",
    "\n",
    "\n",
    "# Function to replace flair with MBTI keyword if present\n",
    "def replace_flair_with_mbti(flair):\n",
    "    for keyword in mbti_list:\n",
    "        if keyword in flair.lower():\n",
    "            return mbti_replacements[keyword]\n",
    "    return flair\n",
    "\n",
    "# Apply the flair replacement function to the \"flair\" column\n",
    "data_df['flair'] = data_df['author_flair_text'].apply(replace_flair_with_mbti)"
   ]
  },
  {
   "cell_type": "code",
   "execution_count": 7,
   "metadata": {},
   "outputs": [
    {
     "data": {
      "text/html": [
       "<div>\n",
       "<style scoped>\n",
       "    .dataframe tbody tr th:only-of-type {\n",
       "        vertical-align: middle;\n",
       "    }\n",
       "\n",
       "    .dataframe tbody tr th {\n",
       "        vertical-align: top;\n",
       "    }\n",
       "\n",
       "    .dataframe thead th {\n",
       "        text-align: right;\n",
       "    }\n",
       "</style>\n",
       "<table border=\"1\" class=\"dataframe\">\n",
       "  <thead>\n",
       "    <tr style=\"text-align: right;\">\n",
       "      <th></th>\n",
       "      <th>author_flair_text</th>\n",
       "      <th>body</th>\n",
       "      <th>subreddit</th>\n",
       "      <th>cleaned-comment</th>\n",
       "      <th>lemmatized-comment</th>\n",
       "      <th>flair</th>\n",
       "    </tr>\n",
       "  </thead>\n",
       "  <tbody>\n",
       "    <tr>\n",
       "      <th>0</th>\n",
       "      <td>INTJ</td>\n",
       "      <td>Knowing you're in INTJ is a tool for you to us...</td>\n",
       "      <td>intj</td>\n",
       "      <td>Knowing youre in INTJ is a tool for you to use...</td>\n",
       "      <td>Knowing youre in INTJ be a tool for you to use...</td>\n",
       "      <td>INTJ</td>\n",
       "    </tr>\n",
       "    <tr>\n",
       "      <th>1</th>\n",
       "      <td>INTJ</td>\n",
       "      <td>You are truly an enlightened mastermind.</td>\n",
       "      <td>intj</td>\n",
       "      <td>You are truly an enlightened mastermind</td>\n",
       "      <td>You be truly an enlightened mastermind</td>\n",
       "      <td>INTJ</td>\n",
       "    </tr>\n",
       "    <tr>\n",
       "      <th>2</th>\n",
       "      <td>INFJ, 26F</td>\n",
       "      <td>You should :) it will help if you have a down ...</td>\n",
       "      <td>infj</td>\n",
       "      <td>You should  it will help if you have a down mo...</td>\n",
       "      <td>You should it will help if you have a down mom...</td>\n",
       "      <td>INFJ</td>\n",
       "    </tr>\n",
       "    <tr>\n",
       "      <th>3</th>\n",
       "      <td>INTP</td>\n",
       "      <td>I watch a bit of everything (including hentai)...</td>\n",
       "      <td>INTP</td>\n",
       "      <td>I watch a bit of everything including hentai I...</td>\n",
       "      <td>I watch a bit of everything include hentai I t...</td>\n",
       "      <td>INTP</td>\n",
       "    </tr>\n",
       "    <tr>\n",
       "      <th>4</th>\n",
       "      <td>INTJ</td>\n",
       "      <td>I don't know if I would count this as a pet pe...</td>\n",
       "      <td>intj</td>\n",
       "      <td>I dont know if I would count this as a pet pee...</td>\n",
       "      <td>I dont know if I would count this as a pet pee...</td>\n",
       "      <td>INTJ</td>\n",
       "    </tr>\n",
       "  </tbody>\n",
       "</table>\n",
       "</div>"
      ],
      "text/plain": [
       "  author_flair_text                                               body  \\\n",
       "0              INTJ  Knowing you're in INTJ is a tool for you to us...   \n",
       "1              INTJ           You are truly an enlightened mastermind.   \n",
       "2         INFJ, 26F  You should :) it will help if you have a down ...   \n",
       "3              INTP  I watch a bit of everything (including hentai)...   \n",
       "4              INTJ  I don't know if I would count this as a pet pe...   \n",
       "\n",
       "  subreddit                                    cleaned-comment  \\\n",
       "0      intj  Knowing youre in INTJ is a tool for you to use...   \n",
       "1      intj            You are truly an enlightened mastermind   \n",
       "2      infj  You should  it will help if you have a down mo...   \n",
       "3      INTP  I watch a bit of everything including hentai I...   \n",
       "4      intj  I dont know if I would count this as a pet pee...   \n",
       "\n",
       "                                  lemmatized-comment flair  \n",
       "0  Knowing youre in INTJ be a tool for you to use...  INTJ  \n",
       "1             You be truly an enlightened mastermind  INTJ  \n",
       "2  You should it will help if you have a down mom...  INFJ  \n",
       "3  I watch a bit of everything include hentai I t...  INTP  \n",
       "4  I dont know if I would count this as a pet pee...  INTJ  "
      ]
     },
     "execution_count": 7,
     "metadata": {},
     "output_type": "execute_result"
    }
   ],
   "source": [
    "data_df.head()"
   ]
  },
  {
   "cell_type": "code",
   "execution_count": 8,
   "metadata": {},
   "outputs": [
    {
     "data": {
      "text/html": [
       "<div>\n",
       "<style scoped>\n",
       "    .dataframe tbody tr th:only-of-type {\n",
       "        vertical-align: middle;\n",
       "    }\n",
       "\n",
       "    .dataframe tbody tr th {\n",
       "        vertical-align: top;\n",
       "    }\n",
       "\n",
       "    .dataframe thead th {\n",
       "        text-align: right;\n",
       "    }\n",
       "</style>\n",
       "<table border=\"1\" class=\"dataframe\">\n",
       "  <thead>\n",
       "    <tr style=\"text-align: right;\">\n",
       "      <th></th>\n",
       "      <th>lemmatized-comment</th>\n",
       "      <th>flair</th>\n",
       "      <th>numerical-label</th>\n",
       "    </tr>\n",
       "  </thead>\n",
       "  <tbody>\n",
       "    <tr>\n",
       "      <th>0</th>\n",
       "      <td>Knowing youre in INTJ be a tool for you to use...</td>\n",
       "      <td>INTJ</td>\n",
       "      <td>3</td>\n",
       "    </tr>\n",
       "    <tr>\n",
       "      <th>1</th>\n",
       "      <td>You be truly an enlightened mastermind</td>\n",
       "      <td>INTJ</td>\n",
       "      <td>3</td>\n",
       "    </tr>\n",
       "    <tr>\n",
       "      <th>2</th>\n",
       "      <td>You should it will help if you have a down mom...</td>\n",
       "      <td>INFJ</td>\n",
       "      <td>2</td>\n",
       "    </tr>\n",
       "    <tr>\n",
       "      <th>3</th>\n",
       "      <td>I watch a bit of everything include hentai I t...</td>\n",
       "      <td>INTP</td>\n",
       "      <td>7</td>\n",
       "    </tr>\n",
       "    <tr>\n",
       "      <th>4</th>\n",
       "      <td>I dont know if I would count this as a pet pee...</td>\n",
       "      <td>INTJ</td>\n",
       "      <td>3</td>\n",
       "    </tr>\n",
       "  </tbody>\n",
       "</table>\n",
       "</div>"
      ],
      "text/plain": [
       "                                  lemmatized-comment flair  numerical-label\n",
       "0  Knowing youre in INTJ be a tool for you to use...  INTJ                3\n",
       "1             You be truly an enlightened mastermind  INTJ                3\n",
       "2  You should it will help if you have a down mom...  INFJ                2\n",
       "3  I watch a bit of everything include hentai I t...  INTP                7\n",
       "4  I dont know if I would count this as a pet pee...  INTJ                3"
      ]
     },
     "execution_count": 8,
     "metadata": {},
     "output_type": "execute_result"
    }
   ],
   "source": [
    "mbti_types = ['ISTJ','ISFJ','INFJ','INTJ','ISTP','ISFP','INFP','INTP','ESTP','ESFP','ENFP','ENTP','ESTJ','ESFJ', 'ENFJ', 'ENTJ']\n",
    "\n",
    "\n",
    "# Create a mapping from MBTI types to numerical labels\n",
    "mbti_label_map = {mbti_type: idx for idx, mbti_type in enumerate(mbti_types)}\n",
    "\n",
    "# Convert MBTI types into numerical labels and store in a new column \"numerical-label\"\n",
    "data_df['numerical-label'] = data_df['flair'].map(mbti_label_map)\n",
    "\n",
    "data_df.drop(['cleaned-comment', \"body\", \"author_flair_text\", \"subreddit\"], axis=1, inplace=True)\n",
    "\n",
    "data_df.head()"
   ]
  },
  {
   "cell_type": "code",
   "execution_count": 9,
   "metadata": {},
   "outputs": [],
   "source": [
    "# Write the DataFrame with lemmatized texts and numerical labels to a new CSV file\n",
    "data_df.to_csv(\"data2.csv\", index=False)"
   ]
  },
  {
   "cell_type": "code",
   "execution_count": null,
   "metadata": {},
   "outputs": [],
   "source": []
  }
 ],
 "metadata": {
  "kernelspec": {
   "display_name": "base",
   "language": "python",
   "name": "python3"
  },
  "language_info": {
   "codemirror_mode": {
    "name": "ipython",
    "version": 3
   },
   "file_extension": ".py",
   "mimetype": "text/x-python",
   "name": "python",
   "nbconvert_exporter": "python",
   "pygments_lexer": "ipython3",
   "version": "3.9.15"
  },
  "orig_nbformat": 4
 },
 "nbformat": 4,
 "nbformat_minor": 2
}
