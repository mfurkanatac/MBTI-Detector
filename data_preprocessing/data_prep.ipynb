{
 "cells": [
  {
   "cell_type": "code",
   "execution_count": 10,
   "metadata": {},
   "outputs": [
    {
     "name": "stdout",
     "output_type": "stream",
     "text": [
      "['mbti.csv', 'enfp.csv', 'infp.csv', 'isfp.csv', 'esfp.csv', 'istp.csv', 'estp.csv', 'entp.csv', 'intp.csv', 'intj.csv', 'entj.csv', 'estj.csv', 'istj.csv', 'esfj.csv', 'isfj.csv', 'infj.csv', 'enfj.csv']\n"
     ]
    }
   ],
   "source": [
    "import os\n",
    "folder = \"csv/\"\n",
    "files = os.listdir(folder)\n",
    "print(files)"
   ]
  },
  {
   "cell_type": "code",
   "execution_count": 11,
   "metadata": {},
   "outputs": [],
   "source": [
    "import pandas as pd\n",
    "\n",
    "data = pd.concat([pd.read_csv(folder + file) for file in files])"
   ]
  },
  {
   "cell_type": "markdown",
   "metadata": {},
   "source": [
    "### Now this works well however we are going to remove the outliers from the data."
   ]
  },
  {
   "cell_type": "code",
   "execution_count": 12,
   "metadata": {},
   "outputs": [],
   "source": [
    "# there should be a keyword for each mbti in flair column\n",
    "mbti_list = ['istj', 'isfj', 'infj', 'intj', 'istp', 'isfp', 'infp', 'intp', 'estp', 'esfp', 'enfp', 'entp', 'estj', 'esfj', 'enfj', 'entj']\n",
    "\n",
    "data_df = data[data['flair'].str.lower().str.contains('|'.join(mbti_list), na=False)]"
   ]
  },
  {
   "cell_type": "markdown",
   "metadata": {},
   "source": [
    "### We will get rid of the empty comments/posts"
   ]
  },
  {
   "cell_type": "code",
   "execution_count": 13,
   "metadata": {},
   "outputs": [
    {
     "data": {
      "text/plain": [
       "username             0\n",
       "flair                0\n",
       "post-comment      1709\n",
       "score                0\n",
       "url             151110\n",
       "dtype: int64"
      ]
     },
     "execution_count": 13,
     "metadata": {},
     "output_type": "execute_result"
    }
   ],
   "source": [
    "data_df.isna().sum()"
   ]
  },
  {
   "cell_type": "code",
   "execution_count": 14,
   "metadata": {},
   "outputs": [
    {
     "name": "stderr",
     "output_type": "stream",
     "text": [
      "/var/folders/s8/4xslbt0x6c3fmbghz8vw8c6h0000gn/T/ipykernel_8798/53756048.py:1: SettingWithCopyWarning: \n",
      "A value is trying to be set on a copy of a slice from a DataFrame\n",
      "\n",
      "See the caveats in the documentation: https://pandas.pydata.org/pandas-docs/stable/user_guide/indexing.html#returning-a-view-versus-a-copy\n",
      "  data_df.dropna(subset=['post-comment'], inplace=True)\n"
     ]
    }
   ],
   "source": [
    "data_df.dropna(subset=['post-comment'], inplace=True)"
   ]
  },
  {
   "cell_type": "code",
   "execution_count": 15,
   "metadata": {},
   "outputs": [
    {
     "data": {
      "text/plain": [
       "username             0\n",
       "flair                0\n",
       "post-comment         0\n",
       "score                0\n",
       "url             151102\n",
       "dtype: int64"
      ]
     },
     "execution_count": 15,
     "metadata": {},
     "output_type": "execute_result"
    }
   ],
   "source": [
    "data_df.isna().sum()"
   ]
  },
  {
   "cell_type": "code",
   "execution_count": 16,
   "metadata": {},
   "outputs": [
    {
     "name": "stderr",
     "output_type": "stream",
     "text": [
      "/var/folders/s8/4xslbt0x6c3fmbghz8vw8c6h0000gn/T/ipykernel_8798/3270311056.py:28: SettingWithCopyWarning: \n",
      "A value is trying to be set on a copy of a slice from a DataFrame.\n",
      "Try using .loc[row_indexer,col_indexer] = value instead\n",
      "\n",
      "See the caveats in the documentation: https://pandas.pydata.org/pandas-docs/stable/user_guide/indexing.html#returning-a-view-versus-a-copy\n",
      "  data_df['flair'] = data_df['flair'].apply(replace_flair_with_mbti)\n"
     ]
    }
   ],
   "source": [
    "mbti_replacements = {\n",
    "    'istj': 'ISTJ',\n",
    "    'isfj': 'ISFJ',\n",
    "    'infj': 'INFJ',\n",
    "    'intj': 'INTJ',\n",
    "    'istp': 'ISTP',\n",
    "    'isfp': 'ISFP',\n",
    "    'infp': 'INFP',\n",
    "    'intp': 'INTP',\n",
    "    'estp': 'ESTP',\n",
    "    'esfp': 'ESFP',\n",
    "    'enfp': 'ENFP',\n",
    "    'entp': 'ENTP',\n",
    "    'estj': 'ESTJ',\n",
    "    'esfj': 'ESFJ',\n",
    "    'enfj': 'ENFJ',\n",
    "    'entj': 'ENTJ',\n",
    "}\n",
    "\n",
    "# Function to replace flair with MBTI keyword if present\n",
    "def replace_flair_with_mbti(flair):\n",
    "    for keyword in mbti_list:\n",
    "        if keyword in flair.lower():\n",
    "            return mbti_replacements[keyword]\n",
    "    return flair\n",
    "\n",
    "# Apply the flair replacement function to the \"flair\" column\n",
    "data_df['flair'] = data_df['flair'].apply(replace_flair_with_mbti)\n",
    "\n",
    "# Create a new DataFrame with only the filtered data\n",
    "filtered_data_df = data_df[data_df['flair'].isin(mbti_replacements.values())]"
   ]
  },
  {
   "cell_type": "code",
   "execution_count": 17,
   "metadata": {},
   "outputs": [],
   "source": [
    "filtered_data_df['post-comment_length'] = filtered_data_df['post-comment'].str.len()\n",
    "\n",
    "filtered_data_df['post-comment'] = filtered_data_df['post-comment'].str.lower()\n",
    "\n",
    "# Write the filtered DataFrame to a new CSV file\n",
    "filtered_data_df.to_csv(\"filtered_data.csv\", index=False)"
   ]
  }
 ],
 "metadata": {
  "kernelspec": {
   "display_name": "base",
   "language": "python",
   "name": "python3"
  },
  "language_info": {
   "codemirror_mode": {
    "name": "ipython",
    "version": 3
   },
   "file_extension": ".py",
   "mimetype": "text/x-python",
   "name": "python",
   "nbconvert_exporter": "python",
   "pygments_lexer": "ipython3",
   "version": "3.10.9"
  },
  "orig_nbformat": 4
 },
 "nbformat": 4,
 "nbformat_minor": 2
}
